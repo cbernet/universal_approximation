{
 "cells": [
  {
   "cell_type": "markdown",
   "metadata": {},
   "source": [
    "## How to run \n",
    "\n",
    "* [Run on Google Colab](https://colab.research.google.com/github/cbernet/universal_approximation/blob/master/approx.ipynb) (feel free to change the runtime type to GPU if needed)\n",
    "* Or run locally: \n",
    "\n",
    "```\n",
    "conda create -n uniapprox python=3.7\n",
    "conda activate uniapprox\n",
    "conda install keras matplotlib jupyter\n",
    "```"
   ]
  },
  {
   "cell_type": "markdown",
   "metadata": {},
   "source": [
    "## Set up the tools"
   ]
  },
  {
   "cell_type": "code",
   "execution_count": 3,
   "metadata": {},
   "outputs": [],
   "source": [
    "import numpy as np\n",
    "import keras\n",
    "import matplotlib.pyplot as plt\n",
    "import os\n",
    "\n",
    "# just to be able to run on my mac, probably not necessary on other platforms\n",
    "os.environ['KMP_DUPLICATE_LIB_OK'] = 'TRUE'"
   ]
  },
  {
   "cell_type": "markdown",
   "metadata": {},
   "source": [
    "## Function to be approximated: sinus"
   ]
  },
  {
   "cell_type": "code",
   "execution_count": 63,
   "metadata": {},
   "outputs": [],
   "source": [
    "linx = np.linspace(-5, 5, 10001)\n",
    "sinus = np.sin(linx)"
   ]
  },
  {
   "cell_type": "code",
   "execution_count": 64,
   "metadata": {},
   "outputs": [
    {
     "data": {
      "text/plain": [
       "[<matplotlib.lines.Line2D at 0x6d9b17950>]"
      ]
     },
     "execution_count": 64,
     "metadata": {},
     "output_type": "execute_result"
    },
    {
     "data": {
      "image/png": "[encoded data removed]",
      "text/plain": [
       "<Figure size 432x288 with 1 Axes>"
      ]
     },
     "metadata": {
      "needs_background": "light"
     },
     "output_type": "display_data"
    }
   ],
   "source": [
    "plt.plot(linx, sinus)"
   ]
  },
  {
   "cell_type": "markdown",
   "metadata": {},
   "source": [
    "## Definition of the model \n",
    "\n",
    "Play with number of layers, number of neurons, ..."
   ]
  },
  {
   "cell_type": "code",
   "execution_count": 105,
   "metadata": {},
   "outputs": [
    {
     "name": "stdout",
     "output_type": "stream",
     "text": [
      "Model: \"sequential_23\"\n",
      "_________________________________________________________________\n",
      "Layer (type)                 Output Shape              Param #   \n",
      "=================================================================\n",
      "dense_62 (Dense)             (None, 200)               400       \n",
      "_________________________________________________________________\n",
      "dense_63 (Dense)             (None, 200)               40200     \n",
      "_________________________________________________________________\n",
      "dense_64 (Dense)             (None, 1)                 201       \n",
      "=================================================================\n",
      "Total params: 40,801\n",
      "Trainable params: 40,801\n",
      "Non-trainable params: 0\n",
      "_________________________________________________________________\n"
     ]
    }
   ],
   "source": [
    "from keras import layers, models, optimizers\n",
    "\n",
    "model = models.Sequential([\n",
    "    layers.Dense(200, input_shape=(1,), activation='relu'),     \n",
    "    layers.Dense(200, input_shape=(1,), activation='relu'),     \n",
    "    layers.Dense(1), # no activation -> linear function of the input\n",
    "])\n",
    "\n",
    "model.summary()"
   ]
  },
  {
   "cell_type": "code",
   "execution_count": 106,
   "metadata": {},
   "outputs": [
    {
     "name": "stdout",
     "output_type": "stream",
     "text": [
      "Epoch 1/30\n",
      "10001/10001 [==============================] - 2s 211us/step - loss: 0.0632\n",
      "Epoch 2/30\n",
      "10001/10001 [==============================] - 2s 172us/step - loss: 0.0065\n",
      "Epoch 3/30\n",
      "10001/10001 [==============================] - 2s 175us/step - loss: 0.0038\n",
      "Epoch 4/30\n",
      "10001/10001 [==============================] - 2s 177us/step - loss: 0.0021\n",
      "Epoch 5/30\n",
      "10001/10001 [==============================] - 2s 189us/step - loss: 0.0016\n",
      "Epoch 6/30\n",
      "10001/10001 [==============================] - 2s 200us/step - loss: 0.0012\n",
      "Epoch 7/30\n",
      "10001/10001 [==============================] - 2s 204us/step - loss: 8.6548e-04\n",
      "Epoch 8/30\n",
      "10001/10001 [==============================] - 2s 217us/step - loss: 5.5282e-04\n",
      "Epoch 9/30\n",
      "10001/10001 [==============================] - 2s 203us/step - loss: 5.9357e-04\n",
      "Epoch 10/30\n",
      "10001/10001 [==============================] - 2s 201us/step - loss: 5.4419e-04\n",
      "Epoch 11/30\n",
      "10001/10001 [==============================] - 2s 199us/step - loss: 4.1628e-04\n",
      "Epoch 12/30\n",
      "10001/10001 [==============================] - 2s 195us/step - loss: 4.8164e-04\n",
      "Epoch 13/30\n",
      "10001/10001 [==============================] - 2s 198us/step - loss: 3.4750e-04\n",
      "Epoch 14/30\n",
      "10001/10001 [==============================] - 2s 199us/step - loss: 4.7003e-04\n",
      "Epoch 15/30\n",
      "10001/10001 [==============================] - 2s 199us/step - loss: 2.3480e-04\n",
      "Epoch 16/30\n",
      "10001/10001 [==============================] - 2s 199us/step - loss: 3.6552e-04\n",
      "Epoch 17/30\n",
      "10001/10001 [==============================] - 2s 197us/step - loss: 1.6702e-04\n",
      "Epoch 18/30\n",
      "10001/10001 [==============================] - 2s 200us/step - loss: 2.7900e-04\n",
      "Epoch 19/30\n",
      "10001/10001 [==============================] - 2s 198us/step - loss: 2.2123e-04\n",
      "Epoch 20/30\n",
      "10001/10001 [==============================] - 2s 198us/step - loss: 3.8313e-04\n",
      "Epoch 21/30\n",
      "10001/10001 [==============================] - 2s 200us/step - loss: 1.8491e-04\n",
      "Epoch 22/30\n",
      "10001/10001 [==============================] - 2s 201us/step - loss: 1.8332e-04\n",
      "Epoch 23/30\n",
      "10001/10001 [==============================] - 2s 202us/step - loss: 1.3693e-04\n",
      "Epoch 24/30\n",
      "10001/10001 [==============================] - 2s 201us/step - loss: 2.8523e-04\n",
      "Epoch 25/30\n",
      "10001/10001 [==============================] - 2s 203us/step - loss: 9.4805e-05\n",
      "Epoch 26/30\n",
      "10001/10001 [==============================] - 2s 203us/step - loss: 3.2834e-04\n",
      "Epoch 27/30\n",
      "10001/10001 [==============================] - 2s 203us/step - loss: 1.6242e-04\n",
      "Epoch 28/30\n",
      "10001/10001 [==============================] - 2s 203us/step - loss: 1.1231e-04\n",
      "Epoch 29/30\n",
      "10001/10001 [==============================] - 2s 201us/step - loss: 2.1468e-04\n",
      "Epoch 30/30\n",
      "10001/10001 [==============================] - 2s 203us/step - loss: 9.1923e-05\n"
     ]
    },
    {
     "data": {
      "text/plain": [
       "<keras.callbacks.callbacks.History at 0x6e0102f50>"
      ]
     },
     "execution_count": 106,
     "metadata": {},
     "output_type": "execute_result"
    }
   ],
   "source": [
    "opt = optimizers.Adam(learning_rate=0.001)\n",
    "model.compile(loss='mse',\n",
    "              optimizer=opt)\n",
    "model.fit(linx, sinus, epochs=30, batch_size=20)"
   ]
  },
  {
   "cell_type": "code",
   "execution_count": 107,
   "metadata": {},
   "outputs": [
    {
     "data": {
      "text/plain": [
       "[<matplotlib.lines.Line2D at 0x6e143ba50>]"
      ]
     },
     "execution_count": 107,
     "metadata": {},
     "output_type": "execute_result"
    },
    {
     "data": {
      "image/png": "[encoded data removed]",
      "text/plain": [
       "<Figure size 432x288 with 1 Axes>"
      ]
     },
     "metadata": {
      "needs_background": "light"
     },
     "output_type": "display_data"
    }
   ],
   "source": [
    "preds = model.predict(linx)\n",
    "plt.plot(linx, preds)\n",
    "plt.plot(linx, sinus)"
   ]
  },
  {
   "cell_type": "code",
   "execution_count": null,
   "metadata": {},
   "outputs": [],
   "source": []
  }
 ],
 "metadata": {
  "kernelspec": {
   "display_name": "Python 3",
   "language": "python",
   "name": "python3"
  },
  "language_info": {
   "codemirror_mode": {
    "name": "ipython",
    "version": 3
   },
   "file_extension": ".py",
   "mimetype": "text/x-python",
   "name": "python",
   "nbconvert_exporter": "python",
   "pygments_lexer": "ipython3",
   "version": "3.7.7"
  }
 },
 "nbformat": 4,
 "nbformat_minor": 4
}
