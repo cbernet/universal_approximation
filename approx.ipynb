{
 "cells": [
  {
   "cell_type": "code",
   "execution_count": 3,
   "metadata": {},
   "outputs": [],
   "source": [
    "import numpy as np\n",
    "import keras\n",
    "import matplotlib.pyplot as plt\n",
    "import os\n",
    "\n",
    "# just to be able to run on my mac, probably not necessary on other platforms\n",
    "os.environ['KMP_DUPLICATE_LIB_OK'] = 'TRUE'"
   ]
  },
  {
   "cell_type": "markdown",
   "metadata": {},
   "source": [
    "## Function to be approximated: sinus"
   ]
  },
  {
   "cell_type": "code",
   "execution_count": 63,
   "metadata": {},
   "outputs": [],
   "source": [
    "linx = np.linspace(-5, 5, 10001)\n",
    "sinus = np.sin(linx)"
   ]
  },
  {
   "cell_type": "code",
   "execution_count": 64,
   "metadata": {},
   "outputs": [
    {
     "data": {
      "text/plain": [
       "[<matplotlib.lines.Line2D at 0x6d9b17950>]"
      ]
     },
     "execution_count": 64,
     "metadata": {},
     "output_type": "execute_result"
    },
    {
     "data": {
      "image/png": "[encoded data removed]",
      "text/plain": [
       "<Figure size 432x288 with 1 Axes>"
      ]
     },
     "metadata": {
      "needs_background": "light"
     },
     "output_type": "display_data"
    }
   ],
   "source": [
    "plt.plot(linx, sinus)"
   ]
  },
  {
   "cell_type": "markdown",
   "metadata": {},
   "source": [
    "## Definition of the model \n",
    "\n",
    "Play with number of layers, number of neurons, ..."
   ]
  },
  {
   "cell_type": "code",
   "execution_count": 93,
   "metadata": {},
   "outputs": [
    {
     "name": "stdout",
     "output_type": "stream",
     "text": [
      "Model: \"sequential_20\"\n",
      "_________________________________________________________________\n",
      "Layer (type)                 Output Shape              Param #   \n",
      "=================================================================\n",
      "dense_53 (Dense)             (None, 200)               400       \n",
      "_________________________________________________________________\n",
      "dense_54 (Dense)             (None, 200)               40200     \n",
      "_________________________________________________________________\n",
      "dense_55 (Dense)             (None, 1)                 201       \n",
      "=================================================================\n",
      "Total params: 40,801\n",
      "Trainable params: 40,801\n",
      "Non-trainable params: 0\n",
      "_________________________________________________________________\n"
     ]
    }
   ],
   "source": [
    "from keras import layers, models, optimizers\n",
    "\n",
    "model = models.Sequential([\n",
    "    layers.Dense(200, input_shape=(1,), activation='relu'),     \n",
    "    layers.Dense(200, input_shape=(1,), activation='relu'),     \n",
    "    layers.Dense(1), # no activation -> linear function of the input\n",
    "])\n",
    "\n",
    "model.summary()"
   ]
  },
  {
   "cell_type": "code",
   "execution_count": 94,
   "metadata": {},
   "outputs": [
    {
     "name": "stdout",
     "output_type": "stream",
     "text": [
      "Epoch 1/20\n",
      "10001/10001 [==============================] - 1s 110us/step - loss: 0.0808\n",
      "Epoch 2/20\n",
      "10001/10001 [==============================] - 1s 70us/step - loss: 0.0048\n",
      "Epoch 3/20\n",
      "10001/10001 [==============================] - 1s 69us/step - loss: 0.0018\n",
      "Epoch 4/20\n",
      "10001/10001 [==============================] - 1s 70us/step - loss: 0.0011\n",
      "Epoch 5/20\n",
      "10001/10001 [==============================] - 1s 69us/step - loss: 5.2149e-04\n",
      "Epoch 6/20\n",
      "10001/10001 [==============================] - 1s 69us/step - loss: 4.3000e-04\n",
      "Epoch 7/20\n",
      "10001/10001 [==============================] - 1s 70us/step - loss: 7.7311e-04\n",
      "Epoch 8/20\n",
      "10001/10001 [==============================] - 1s 71us/step - loss: 8.3942e-04\n",
      "Epoch 9/20\n",
      "10001/10001 [==============================] - 1s 71us/step - loss: 4.6658e-04\n",
      "Epoch 10/20\n",
      "10001/10001 [==============================] - 1s 71us/step - loss: 0.0017\n",
      "Epoch 11/20\n",
      "10001/10001 [==============================] - 1s 71us/step - loss: 7.1047e-04\n",
      "Epoch 12/20\n",
      "10001/10001 [==============================] - 1s 73us/step - loss: 2.2988e-04\n",
      "Epoch 13/20\n",
      "10001/10001 [==============================] - 1s 72us/step - loss: 1.5720e-04\n",
      "Epoch 14/20\n",
      "10001/10001 [==============================] - 1s 72us/step - loss: 2.5775e-04\n",
      "Epoch 15/20\n",
      "10001/10001 [==============================] - 1s 73us/step - loss: 2.3971e-04\n",
      "Epoch 16/20\n",
      "10001/10001 [==============================] - 1s 74us/step - loss: 5.4882e-04\n",
      "Epoch 17/20\n",
      "10001/10001 [==============================] - 1s 76us/step - loss: 0.0013\n",
      "Epoch 18/20\n",
      "10001/10001 [==============================] - 1s 79us/step - loss: 1.3013e-04\n",
      "Epoch 19/20\n",
      "10001/10001 [==============================] - 1s 79us/step - loss: 1.4783e-04\n",
      "Epoch 20/20\n",
      "10001/10001 [==============================] - 1s 78us/step - loss: 2.4515e-04\n"
     ]
    },
    {
     "data": {
      "text/plain": [
       "<keras.callbacks.callbacks.History at 0x6df3b4910>"
      ]
     },
     "execution_count": 94,
     "metadata": {},
     "output_type": "execute_result"
    }
   ],
   "source": [
    "opt = optimizers.Adam(learning_rate=0.005)\n",
    "model.compile(loss='mse',\n",
    "              optimizer=opt)\n",
    "model.fit(linx, sinus, epochs=20, batch_size=50)"
   ]
  },
  {
   "cell_type": "code",
   "execution_count": 95,
   "metadata": {},
   "outputs": [
    {
     "data": {
      "text/plain": [
       "[<matplotlib.lines.Line2D at 0x6df81af10>]"
      ]
     },
     "execution_count": 95,
     "metadata": {},
     "output_type": "execute_result"
    },
    {
     "data": {
      "image/png": "[encoded data removed]",
      "text/plain": [
       "<Figure size 432x288 with 1 Axes>"
      ]
     },
     "metadata": {
      "needs_background": "light"
     },
     "output_type": "display_data"
    }
   ],
   "source": [
    "preds = model.predict(linx)\n",
    "plt.plot(linx, preds)\n",
    "plt.plot(linx, sinus)"
   ]
  },
  {
   "cell_type": "code",
   "execution_count": null,
   "metadata": {},
   "outputs": [],
   "source": []
  }
 ],
 "metadata": {
  "kernelspec": {
   "display_name": "Python 3",
   "language": "python",
   "name": "python3"
  },
  "language_info": {
   "codemirror_mode": {
    "name": "ipython",
    "version": 3
   },
   "file_extension": ".py",
   "mimetype": "text/x-python",
   "name": "python",
   "nbconvert_exporter": "python",
   "pygments_lexer": "ipython3",
   "version": "3.7.7"
  }
 },
 "nbformat": 4,
 "nbformat_minor": 4
}
